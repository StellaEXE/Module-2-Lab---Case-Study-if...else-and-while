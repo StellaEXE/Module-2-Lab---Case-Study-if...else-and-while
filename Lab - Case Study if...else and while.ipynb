{
 "cells": [
  {
   "cell_type": "code",
   "execution_count": null,
   "id": "60fe6e13-93aa-43cb-9060-a352dd3fc5ed",
   "metadata": {},
   "outputs": [
    {
     "name": "stdin",
     "output_type": "stream",
     "text": [
      "Enter student's last name (or 'ZZZ' to quit):  Christopher\n",
      "Enter student's first name:  Evan\n",
      "Enter student's GPA:  3.7\n"
     ]
    },
    {
     "name": "stdout",
     "output_type": "stream",
     "text": [
      "Evan Christopher has made the Dean's List!\n"
     ]
    },
    {
     "name": "stdin",
     "output_type": "stream",
     "text": [
      "Enter student's last name (or 'ZZZ' to quit):  Chris\n",
      "Enter student's first name:  das\n",
      "Enter student's GPA:  54\n"
     ]
    },
    {
     "name": "stdout",
     "output_type": "stream",
     "text": [
      "das Chris has made the Dean's List!\n"
     ]
    }
   ],
   "source": [
    "# Name: Isabelle Peterson\n",
    "# File Name: student_qualifications.ipynb\n",
    "# This app accepts student names and GPAs, checks if they qualify for the Dean's List or Honor Roll,and prints corresponding messages. It quits when 'ZZZ' is entered as the last name.\n",
    "\n",
    "def check_qualification():\n",
    "    \"\"\"\n",
    "    Prompts for student info and checks for Dean's List or Honor Roll.\n",
    "    \"\"\"\n",
    "    while True:\n",
    "        last_name = input(\"Enter student's last name (or 'ZZZ' to quit): \")\n",
    "        if last_name.upper() == 'ZZZ':  # Case-insensitive check for 'ZZZ'\n",
    "            print(\"Quitting student records processing.\")\n",
    "            break\n",
    "\n",
    "        first_name = input(\"Enter student's first name: \")\n",
    "        try:\n",
    "            gpa = float(input(\"Enter student's GPA: \"))\n",
    "        except ValueError:\n",
    "            print(\"Invalid GPA. Please enter a numeric value.\")\n",
    "            continue  # Skip to the next iteration if GPA is invalid\n",
    "\n",
    "        # Check for Dean's List\n",
    "        if gpa >= 3.5:\n",
    "            print(f\"{first_name} {last_name} has made the Dean's List!\")\n",
    "        # Check for Honor Roll\n",
    "        elif gpa >= 3.25:\n",
    "            print(f\"{first_name} {last_name} has made the Honor Roll!\")\n",
    "        # Optional: message for no qualification\n",
    "        # else:\n",
    "        #     print(f\"{first_name} {last_name} does not qualify for Dean's List or Honor Roll.\")\n",
    "\n",
    "# Call the function to run the app\n",
    "if __name__ == \"__main__\":\n",
    "    check_qualification()"
   ]
  },
  {
   "cell_type": "code",
   "execution_count": null,
   "id": "8c5baeaf-66ba-4095-a920-9436f57f08bc",
   "metadata": {},
   "outputs": [],
   "source": []
  }
 ],
 "metadata": {
  "kernelspec": {
   "display_name": "Python [conda env:base] *",
   "language": "python",
   "name": "conda-base-py"
  },
  "language_info": {
   "codemirror_mode": {
    "name": "ipython",
    "version": 3
   },
   "file_extension": ".py",
   "mimetype": "text/x-python",
   "name": "python",
   "nbconvert_exporter": "python",
   "pygments_lexer": "ipython3",
   "version": "3.13.5"
  }
 },
 "nbformat": 4,
 "nbformat_minor": 5
}
